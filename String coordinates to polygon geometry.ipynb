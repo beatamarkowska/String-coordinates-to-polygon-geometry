{
 "cells": [
  {
   "cell_type": "markdown",
   "id": "aa75ef5b-f690-45c3-8abe-703b18805d70",
   "metadata": {},
   "source": []
  },
  {
   "cell_type": "code",
   "execution_count": 11,
   "id": "07bcbe90-83a9-4e68-963b-cf554570d695",
   "metadata": {
    "execution": {
     "iopub.execute_input": "2025-05-04T11:05:59.143698Z",
     "iopub.status.busy": "2025-05-04T11:05:59.143506Z",
     "iopub.status.idle": "2025-05-04T11:05:59.147405Z",
     "shell.execute_reply": "2025-05-04T11:05:59.146892Z",
     "shell.execute_reply.started": "2025-05-04T11:05:59.143684Z"
    }
   },
   "outputs": [],
   "source": [
    "from sedona.spark import *\n",
    "from pyspark.sql.functions import concat_ws, col, expr, udf\n",
    "from pyspark.sql.types import StringType"
   ]
  },
  {
   "cell_type": "code",
   "execution_count": 2,
   "id": "79fa4996-7efd-4848-9075-9af46d981b7f",
   "metadata": {
    "execution": {
     "iopub.execute_input": "2025-05-04T10:58:51.186119Z",
     "iopub.status.busy": "2025-05-04T10:58:51.185920Z",
     "iopub.status.idle": "2025-05-04T10:59:15.483059Z",
     "shell.execute_reply": "2025-05-04T10:59:15.482572Z",
     "shell.execute_reply.started": "2025-05-04T10:58:51.186104Z"
    }
   },
   "outputs": [
    {
     "name": "stderr",
     "output_type": "stream",
     "text": [
      "Setting default log level to \"WARN\".\n",
      "To adjust logging level use sc.setLogLevel(newLevel). For SparkR, use setLogLevel(newLevel).\n",
      "                                                                                \r"
     ]
    }
   ],
   "source": [
    "config = SedonaContext.builder().appName('fcc')\\\n",
    "    .config(\"spark.hadoop.fs.s3a.bucket.wherobots-geodata.aws.credentials.provider\",\"org.apache.hadoop.fs.s3a.AnonymousAWSCredentialsProvider\")\\\n",
    "    .getOrCreate()\n",
    "sedona = SedonaContext.create(config)"
   ]
  },
  {
   "cell_type": "code",
   "execution_count": 3,
   "id": "90a14bbf-876a-49e2-ac2f-2c98acab8137",
   "metadata": {
    "execution": {
     "iopub.execute_input": "2025-05-04T11:00:13.712823Z",
     "iopub.status.busy": "2025-05-04T11:00:13.712298Z",
     "iopub.status.idle": "2025-05-04T11:00:13.715525Z",
     "shell.execute_reply": "2025-05-04T11:00:13.714999Z",
     "shell.execute_reply.started": "2025-05-04T11:00:13.712792Z"
    }
   },
   "outputs": [],
   "source": [
    "S3_URL_TV = \"s3://wherobots-geodata/TV_service_contour_current.txt\""
   ]
  },
  {
   "cell_type": "code",
   "execution_count": 4,
   "id": "6c42fcf2-58ad-4fe4-86ee-a5201b26c447",
   "metadata": {
    "execution": {
     "iopub.execute_input": "2025-05-04T11:00:35.138672Z",
     "iopub.status.busy": "2025-05-04T11:00:35.138375Z",
     "iopub.status.idle": "2025-05-04T11:00:37.742294Z",
     "shell.execute_reply": "2025-05-04T11:00:37.741772Z",
     "shell.execute_reply.started": "2025-05-04T11:00:35.138656Z"
    }
   },
   "outputs": [
    {
     "name": "stderr",
     "output_type": "stream",
     "text": [
      "                                                                                \r"
     ]
    }
   ],
   "source": [
    "tv_df = sedona.read.format('csv').option('header', 'true').option('delimiter', '|').load(S3_URL_TV)"
   ]
  },
  {
   "cell_type": "code",
   "execution_count": 5,
   "id": "3cb048ee-d1c5-40b0-9e54-1c804c0ae5f2",
   "metadata": {
    "execution": {
     "iopub.execute_input": "2025-05-04T11:00:49.908912Z",
     "iopub.status.busy": "2025-05-04T11:00:49.908714Z",
     "iopub.status.idle": "2025-05-04T11:00:49.937111Z",
     "shell.execute_reply": "2025-05-04T11:00:49.936522Z",
     "shell.execute_reply.started": "2025-05-04T11:00:49.908896Z"
    }
   },
   "outputs": [
    {
     "name": "stderr",
     "output_type": "stream",
     "text": [
      "25/05/04 11:00:49 WARN SparkStringUtils: Truncated the string representation of a plan since it was too large. This behavior can be adjusted by setting 'spark.sql.debug.maxToStringFields'.\n"
     ]
    }
   ],
   "source": [
    "tv_df.createOrReplaceTempView(\"tv\")"
   ]
  },
  {
   "cell_type": "code",
   "execution_count": 6,
   "id": "97b104c1-b81f-472c-b7ee-a476ec268e14",
   "metadata": {
    "execution": {
     "iopub.execute_input": "2025-05-04T11:02:07.256843Z",
     "iopub.status.busy": "2025-05-04T11:02:07.256623Z",
     "iopub.status.idle": "2025-05-04T11:02:07.314209Z",
     "shell.execute_reply": "2025-05-04T11:02:07.313281Z",
     "shell.execute_reply.started": "2025-05-04T11:02:07.256827Z"
    }
   },
   "outputs": [],
   "source": [
    "all_columns = tv_df.columns"
   ]
  },
  {
   "cell_type": "code",
   "execution_count": 7,
   "id": "9484b1e7-3e9e-45f5-93c3-61bf939d9b4d",
   "metadata": {
    "execution": {
     "iopub.execute_input": "2025-05-04T11:02:28.786716Z",
     "iopub.status.busy": "2025-05-04T11:02:28.786413Z",
     "iopub.status.idle": "2025-05-04T11:02:28.789492Z",
     "shell.execute_reply": "2025-05-04T11:02:28.789133Z",
     "shell.execute_reply.started": "2025-05-04T11:02:28.786701Z"
    }
   },
   "outputs": [],
   "source": [
    "selected_columns = all_columns[5:10]"
   ]
  },
  {
   "cell_type": "code",
   "execution_count": 8,
   "id": "1e394aec-78f9-4197-8ebd-b0612791b53c",
   "metadata": {
    "execution": {
     "iopub.execute_input": "2025-05-04T11:02:47.101466Z",
     "iopub.status.busy": "2025-05-04T11:02:47.101246Z",
     "iopub.status.idle": "2025-05-04T11:02:47.107519Z",
     "shell.execute_reply": "2025-05-04T11:02:47.106999Z",
     "shell.execute_reply.started": "2025-05-04T11:02:47.101449Z"
    }
   },
   "outputs": [
    {
     "data": {
      "text/plain": [
       "['0', '1', '2', '3', '4']"
      ]
     },
     "execution_count": 8,
     "metadata": {},
     "output_type": "execute_result"
    }
   ],
   "source": [
    "selected_columns"
   ]
  },
  {
   "cell_type": "code",
   "execution_count": 9,
   "id": "ff77e1fc-91da-4329-827b-a50d27b58c14",
   "metadata": {
    "execution": {
     "iopub.execute_input": "2025-05-04T11:03:09.001975Z",
     "iopub.status.busy": "2025-05-04T11:03:09.001200Z",
     "iopub.status.idle": "2025-05-04T11:03:09.023446Z",
     "shell.execute_reply": "2025-05-04T11:03:09.022733Z",
     "shell.execute_reply.started": "2025-05-04T11:03:09.001951Z"
    }
   },
   "outputs": [],
   "source": [
    "tv_df1 = tv_df.select(*selected_columns)"
   ]
  },
  {
   "cell_type": "code",
   "execution_count": 10,
   "id": "fd9c19c3-5b49-48a8-a7b0-9d6ffc9fa8d0",
   "metadata": {
    "execution": {
     "iopub.execute_input": "2025-05-04T11:03:29.575285Z",
     "iopub.status.busy": "2025-05-04T11:03:29.575027Z",
     "iopub.status.idle": "2025-05-04T11:03:30.496292Z",
     "shell.execute_reply": "2025-05-04T11:03:30.495594Z",
     "shell.execute_reply.started": "2025-05-04T11:03:29.575269Z"
    }
   },
   "outputs": [
    {
     "name": "stderr",
     "output_type": "stream",
     "text": [
      "[Stage 4:>                                                          (0 + 1) / 1]\r"
     ]
    },
    {
     "name": "stdout",
     "output_type": "stream",
     "text": [
      "+--------------------+--------------------+--------------------+--------------------+--------------------+\n",
      "|                   0|                   1|                   2|                   3|                   4|\n",
      "+--------------------+--------------------+--------------------+--------------------+--------------------+\n",
      "|59.99147 ,-154.84912|59.99194 ,-154.84785|59.99207 ,-154.84720|59.99234 ,-154.84652|59.99245 ,-154.84585|\n",
      "|35.94124 ,-87.13583 |35.94138 ,-87.09534 |35.94065 ,-87.07511 |35.93916 ,-87.05493 |35.93721 ,-87.03483 |\n",
      "|33.40001 ,-114.82803|33.39709 ,-114.81354|33.39595 ,-114.80635|33.39563 ,-114.79913|33.39519 ,-114.79192|\n",
      "|33.39612 ,-114.82803|33.39320 ,-114.81370|33.39208 ,-114.80660|33.39176 ,-114.79946|33.39131 ,-114.79233|\n",
      "|37.36947 ,-120.20000|37.36937 ,-120.19332|37.36926 ,-120.18998|37.36910 ,-120.18664|37.36889 ,-120.18331|\n",
      "|33.88583 ,-116.22777|33.89081 ,-116.22693|33.89404 ,-116.22631|33.89677 ,-116.22559|33.89909 ,-116.22479|\n",
      "|33.75838 ,-116.23333|33.75713 ,-116.23172|33.75643 ,-116.23096|33.75567 ,-116.23023|33.75494 ,-116.22952|\n",
      "|34.55248 ,-118.07250|34.52102 ,-118.06024|34.50482 ,-118.05514|34.49118 ,-118.05050|34.48550 ,-118.04558|\n",
      "|34.41654 ,-118.07250|34.41050 ,-118.06494|34.40825 ,-118.06130|34.40754 ,-118.05761|34.41170 ,-118.05343|\n",
      "|39.35450 ,-122.63247|39.35928 ,-122.60129|39.36096 ,-122.58557|39.36198 ,-122.56980|39.36209 ,-122.55404|\n",
      "|39.47960 ,-122.63247|39.48492 ,-122.59555|39.48678 ,-122.57694|39.48789 ,-122.55828|39.48796 ,-122.53963|\n",
      "|37.95026 ,-121.83355|37.94942 ,-121.79677|37.94830 ,-121.77843|37.94712 ,-121.76011|37.94566 ,-121.74182|\n",
      "|40.19957 ,-124.04058|40.18764 ,-124.03355|40.18121 ,-124.03047|40.18055 ,-124.02715|40.18671 ,-124.02307|\n",
      "|40.75822 ,-122.98056|40.75856 ,-122.97876|40.75876 ,-122.97785|40.75890 ,-122.97693|40.75906 ,-122.97600|\n",
      "|39.85066 ,-105.23611|39.85178 ,-105.23055|39.85228 ,-105.22773|39.85271 ,-105.22488|39.85309 ,-105.22202|\n",
      "|37.46664 ,-108.52444|37.46664 ,-108.52444|37.46664 ,-108.52444|37.46664 ,-108.52444|37.46664 ,-108.52444|\n",
      "|38.50739 ,-107.25089|38.51660 ,-107.23952|38.52158 ,-107.23349|38.52829 ,-107.22708|38.53556 ,-107.22028|\n",
      "|39.46631 ,-108.56667|39.46386 ,-108.54967|39.46245 ,-108.54126|39.46092 ,-108.53290|39.45926 ,-108.52461|\n",
      "|37.29944 ,-108.02644|37.29944 ,-108.02644|37.29944 ,-108.02644|37.29944 ,-108.02644|37.29944 ,-108.02644|\n",
      "|37.25219 ,-108.68842|37.25219 ,-108.68842|37.25219 ,-108.68842|37.25219 ,-108.68842|37.25219 ,-108.68842|\n",
      "+--------------------+--------------------+--------------------+--------------------+--------------------+\n",
      "only showing top 20 rows\n",
      "\n"
     ]
    },
    {
     "name": "stderr",
     "output_type": "stream",
     "text": [
      "                                                                                \r"
     ]
    }
   ],
   "source": [
    "tv_df1.show()"
   ]
  },
  {
   "cell_type": "code",
   "execution_count": 13,
   "id": "986ec63a-e3f9-4aa5-b799-222d4a733215",
   "metadata": {
    "execution": {
     "iopub.execute_input": "2025-05-04T11:06:54.857547Z",
     "iopub.status.busy": "2025-05-04T11:06:54.857326Z",
     "iopub.status.idle": "2025-05-04T11:06:57.058415Z",
     "shell.execute_reply": "2025-05-04T11:06:57.057899Z",
     "shell.execute_reply.started": "2025-05-04T11:06:54.857532Z"
    }
   },
   "outputs": [
    {
     "name": "stderr",
     "output_type": "stream",
     "text": [
      "[Stage 5:>                                                          (0 + 1) / 1]\r"
     ]
    },
    {
     "name": "stdout",
     "output_type": "stream",
     "text": [
      "+--------------------+--------------------+--------------------+--------------------+--------------------+--------------------+\n",
      "|0                   |1                   |2                   |3                   |4                   |5                   |\n",
      "+--------------------+--------------------+--------------------+--------------------+--------------------+--------------------+\n",
      "|59.99147 ,-154.84912|59.99194 ,-154.84785|59.99207 ,-154.84720|59.99234 ,-154.84652|59.99245 ,-154.84585|59.99147 ,-154.84912|\n",
      "|35.94124 ,-87.13583 |35.94138 ,-87.09534 |35.94065 ,-87.07511 |35.93916 ,-87.05493 |35.93721 ,-87.03483 |35.94124 ,-87.13583 |\n",
      "|33.40001 ,-114.82803|33.39709 ,-114.81354|33.39595 ,-114.80635|33.39563 ,-114.79913|33.39519 ,-114.79192|33.40001 ,-114.82803|\n",
      "|33.39612 ,-114.82803|33.39320 ,-114.81370|33.39208 ,-114.80660|33.39176 ,-114.79946|33.39131 ,-114.79233|33.39612 ,-114.82803|\n",
      "|37.36947 ,-120.20000|37.36937 ,-120.19332|37.36926 ,-120.18998|37.36910 ,-120.18664|37.36889 ,-120.18331|37.36947 ,-120.20000|\n",
      "|33.88583 ,-116.22777|33.89081 ,-116.22693|33.89404 ,-116.22631|33.89677 ,-116.22559|33.89909 ,-116.22479|33.88583 ,-116.22777|\n",
      "|33.75838 ,-116.23333|33.75713 ,-116.23172|33.75643 ,-116.23096|33.75567 ,-116.23023|33.75494 ,-116.22952|33.75838 ,-116.23333|\n",
      "|34.55248 ,-118.07250|34.52102 ,-118.06024|34.50482 ,-118.05514|34.49118 ,-118.05050|34.48550 ,-118.04558|34.55248 ,-118.07250|\n",
      "|34.41654 ,-118.07250|34.41050 ,-118.06494|34.40825 ,-118.06130|34.40754 ,-118.05761|34.41170 ,-118.05343|34.41654 ,-118.07250|\n",
      "|39.35450 ,-122.63247|39.35928 ,-122.60129|39.36096 ,-122.58557|39.36198 ,-122.56980|39.36209 ,-122.55404|39.35450 ,-122.63247|\n",
      "|39.47960 ,-122.63247|39.48492 ,-122.59555|39.48678 ,-122.57694|39.48789 ,-122.55828|39.48796 ,-122.53963|39.47960 ,-122.63247|\n",
      "|37.95026 ,-121.83355|37.94942 ,-121.79677|37.94830 ,-121.77843|37.94712 ,-121.76011|37.94566 ,-121.74182|37.95026 ,-121.83355|\n",
      "|40.19957 ,-124.04058|40.18764 ,-124.03355|40.18121 ,-124.03047|40.18055 ,-124.02715|40.18671 ,-124.02307|40.19957 ,-124.04058|\n",
      "|40.75822 ,-122.98056|40.75856 ,-122.97876|40.75876 ,-122.97785|40.75890 ,-122.97693|40.75906 ,-122.97600|40.75822 ,-122.98056|\n",
      "|39.85066 ,-105.23611|39.85178 ,-105.23055|39.85228 ,-105.22773|39.85271 ,-105.22488|39.85309 ,-105.22202|39.85066 ,-105.23611|\n",
      "|37.46664 ,-108.52444|37.46664 ,-108.52444|37.46664 ,-108.52444|37.46664 ,-108.52444|37.46664 ,-108.52444|37.46664 ,-108.52444|\n",
      "|38.50739 ,-107.25089|38.51660 ,-107.23952|38.52158 ,-107.23349|38.52829 ,-107.22708|38.53556 ,-107.22028|38.50739 ,-107.25089|\n",
      "|39.46631 ,-108.56667|39.46386 ,-108.54967|39.46245 ,-108.54126|39.46092 ,-108.53290|39.45926 ,-108.52461|39.46631 ,-108.56667|\n",
      "|37.29944 ,-108.02644|37.29944 ,-108.02644|37.29944 ,-108.02644|37.29944 ,-108.02644|37.29944 ,-108.02644|37.29944 ,-108.02644|\n",
      "|37.25219 ,-108.68842|37.25219 ,-108.68842|37.25219 ,-108.68842|37.25219 ,-108.68842|37.25219 ,-108.68842|37.25219 ,-108.68842|\n",
      "+--------------------+--------------------+--------------------+--------------------+--------------------+--------------------+\n",
      "only showing top 20 rows\n",
      "\n"
     ]
    },
    {
     "name": "stderr",
     "output_type": "stream",
     "text": [
      "                                                                                \r"
     ]
    }
   ],
   "source": [
    "original_columns = tv_df1.columns\n",
    "\n",
    "df_closed = tv_df1.withColumn(str(len(original_columns)), col(\"0\"))\n",
    "\n",
    "df_closed.show(truncate=False)"
   ]
  },
  {
   "cell_type": "code",
   "execution_count": 15,
   "id": "4039325b-f78e-4c02-ad53-ec8f4f559a7d",
   "metadata": {
    "execution": {
     "iopub.execute_input": "2025-05-04T11:08:55.283238Z",
     "iopub.status.busy": "2025-05-04T11:08:55.282884Z",
     "iopub.status.idle": "2025-05-04T11:08:58.109362Z",
     "shell.execute_reply": "2025-05-04T11:08:58.108726Z",
     "shell.execute_reply.started": "2025-05-04T11:08:55.283222Z"
    }
   },
   "outputs": [
    {
     "name": "stderr",
     "output_type": "stream",
     "text": [
      "[Stage 6:>                                                          (0 + 1) / 1]\r"
     ]
    },
    {
     "name": "stdout",
     "output_type": "stream",
     "text": [
      "+----------------------------------------------------------------------------------------------------------------------------------------+\n",
      "|wkt_geometry                                                                                                                            |\n",
      "+----------------------------------------------------------------------------------------------------------------------------------------+\n",
      "|POLYGON ((-154.84912 59.99147, -154.84785 59.99194, -154.8472 59.99207, -154.84652 59.99234, -154.84585 59.99245, -154.84912 59.99147)) |\n",
      "|POLYGON ((-87.13583 35.94124, -87.09534 35.94138, -87.07511 35.94065, -87.05493 35.93916, -87.03483 35.93721, -87.13583 35.94124))      |\n",
      "|POLYGON ((-114.82803 33.40001, -114.81354 33.39709, -114.80635 33.39595, -114.79913 33.39563, -114.79192 33.39519, -114.82803 33.40001))|\n",
      "|POLYGON ((-114.82803 33.39612, -114.8137 33.3932, -114.8066 33.39208, -114.79946 33.39176, -114.79233 33.39131, -114.82803 33.39612))   |\n",
      "|POLYGON ((-120.2 37.36947, -120.19332 37.36937, -120.18998 37.36926, -120.18664 37.3691, -120.18331 37.36889, -120.2 37.36947))         |\n",
      "|POLYGON ((-116.22777 33.88583, -116.22693 33.89081, -116.22631 33.89404, -116.22559 33.89677, -116.22479 33.89909, -116.22777 33.88583))|\n",
      "|POLYGON ((-116.23333 33.75838, -116.23172 33.75713, -116.23096 33.75643, -116.23023 33.75567, -116.22952 33.75494, -116.23333 33.75838))|\n",
      "|POLYGON ((-118.0725 34.55248, -118.06024 34.52102, -118.05514 34.50482, -118.0505 34.49118, -118.04558 34.4855, -118.0725 34.55248))    |\n",
      "|POLYGON ((-118.0725 34.41654, -118.06494 34.4105, -118.0613 34.40825, -118.05761 34.40754, -118.05343 34.4117, -118.0725 34.41654))     |\n",
      "|POLYGON ((-122.63247 39.3545, -122.60129 39.35928, -122.58557 39.36096, -122.5698 39.36198, -122.55404 39.36209, -122.63247 39.3545))   |\n",
      "|POLYGON ((-122.63247 39.4796, -122.59555 39.48492, -122.57694 39.48678, -122.55828 39.48789, -122.53963 39.48796, -122.63247 39.4796))  |\n",
      "|POLYGON ((-121.83355 37.95026, -121.79677 37.94942, -121.77843 37.9483, -121.76011 37.94712, -121.74182 37.94566, -121.83355 37.95026)) |\n",
      "|POLYGON ((-124.04058 40.19957, -124.03355 40.18764, -124.03047 40.18121, -124.02715 40.18055, -124.02307 40.18671, -124.04058 40.19957))|\n",
      "|POLYGON ((-122.98056 40.75822, -122.97876 40.75856, -122.97785 40.75876, -122.97693 40.7589, -122.976 40.75906, -122.98056 40.75822))   |\n",
      "|POLYGON ((-105.23611 39.85066, -105.23055 39.85178, -105.22773 39.85228, -105.22488 39.85271, -105.22202 39.85309, -105.23611 39.85066))|\n",
      "|POLYGON ((-108.52444 37.46664, -108.52444 37.46664, -108.52444 37.46664, -108.52444 37.46664, -108.52444 37.46664, -108.52444 37.46664))|\n",
      "|POLYGON ((-107.25089 38.50739, -107.23952 38.5166, -107.23349 38.52158, -107.22708 38.52829, -107.22028 38.53556, -107.25089 38.50739)) |\n",
      "|POLYGON ((-108.56667 39.46631, -108.54967 39.46386, -108.54126 39.46245, -108.5329 39.46092, -108.52461 39.45926, -108.56667 39.46631)) |\n",
      "|POLYGON ((-108.02644 37.29944, -108.02644 37.29944, -108.02644 37.29944, -108.02644 37.29944, -108.02644 37.29944, -108.02644 37.29944))|\n",
      "|POLYGON ((-108.68842 37.25219, -108.68842 37.25219, -108.68842 37.25219, -108.68842 37.25219, -108.68842 37.25219, -108.68842 37.25219))|\n",
      "+----------------------------------------------------------------------------------------------------------------------------------------+\n",
      "only showing top 20 rows\n",
      "\n"
     ]
    },
    {
     "name": "stderr",
     "output_type": "stream",
     "text": [
      "                                                                                \r"
     ]
    }
   ],
   "source": [
    "def row_to_wkt_dynamic(row):\n",
    "    coords = []\n",
    "    for point in row:\n",
    "        lat, lon = map(float, point.split(','))\n",
    "        coords.append(f\"{lon} {lat}\")\n",
    "    return f\"POLYGON (({', '.join(coords)}))\"\n",
    "\n",
    "\n",
    "to_wkt_udf = udf(row_to_wkt_dynamic, StringType())\n",
    "\n",
    "columns = df_closed.columns\n",
    "\n",
    "wkt_df = df_closed.withColumn(\"wkt_geometry\", to_wkt_udf(array(*[col(c) for c in columns]))) \\\n",
    "           .select(\"wkt_geometry\")\n",
    "\n",
    "wkt_df.show(truncate=False)"
   ]
  },
  {
   "cell_type": "code",
   "execution_count": 16,
   "id": "a241d9ac-fb66-4548-9b72-7970bcd4968b",
   "metadata": {
    "execution": {
     "iopub.execute_input": "2025-05-04T11:10:16.304175Z",
     "iopub.status.busy": "2025-05-04T11:10:16.303938Z",
     "iopub.status.idle": "2025-05-04T11:10:17.853330Z",
     "shell.execute_reply": "2025-05-04T11:10:17.852781Z",
     "shell.execute_reply.started": "2025-05-04T11:10:16.304158Z"
    }
   },
   "outputs": [
    {
     "name": "stderr",
     "output_type": "stream",
     "text": [
      "[Stage 7:>                                                          (0 + 1) / 1]\r"
     ]
    },
    {
     "name": "stdout",
     "output_type": "stream",
     "text": [
      "+----------------------------------------------------------------------------------------------------------------------------------------+\n",
      "|geometry                                                                                                                                |\n",
      "+----------------------------------------------------------------------------------------------------------------------------------------+\n",
      "|POLYGON ((-154.84912 59.99147, -154.84785 59.99194, -154.8472 59.99207, -154.84652 59.99234, -154.84585 59.99245, -154.84912 59.99147)) |\n",
      "|POLYGON ((-87.13583 35.94124, -87.09534 35.94138, -87.07511 35.94065, -87.05493 35.93916, -87.03483 35.93721, -87.13583 35.94124))      |\n",
      "|POLYGON ((-114.82803 33.40001, -114.81354 33.39709, -114.80635 33.39595, -114.79913 33.39563, -114.79192 33.39519, -114.82803 33.40001))|\n",
      "|POLYGON ((-114.82803 33.39612, -114.8137 33.3932, -114.8066 33.39208, -114.79946 33.39176, -114.79233 33.39131, -114.82803 33.39612))   |\n",
      "|POLYGON ((-120.2 37.36947, -120.19332 37.36937, -120.18998 37.36926, -120.18664 37.3691, -120.18331 37.36889, -120.2 37.36947))         |\n",
      "|POLYGON ((-116.22777 33.88583, -116.22693 33.89081, -116.22631 33.89404, -116.22559 33.89677, -116.22479 33.89909, -116.22777 33.88583))|\n",
      "|POLYGON ((-116.23333 33.75838, -116.23172 33.75713, -116.23096 33.75643, -116.23023 33.75567, -116.22952 33.75494, -116.23333 33.75838))|\n",
      "|POLYGON ((-118.0725 34.55248, -118.06024 34.52102, -118.05514 34.50482, -118.0505 34.49118, -118.04558 34.4855, -118.0725 34.55248))    |\n",
      "|POLYGON ((-118.0725 34.41654, -118.06494 34.4105, -118.0613 34.40825, -118.05761 34.40754, -118.05343 34.4117, -118.0725 34.41654))     |\n",
      "|POLYGON ((-122.63247 39.3545, -122.60129 39.35928, -122.58557 39.36096, -122.5698 39.36198, -122.55404 39.36209, -122.63247 39.3545))   |\n",
      "|POLYGON ((-122.63247 39.4796, -122.59555 39.48492, -122.57694 39.48678, -122.55828 39.48789, -122.53963 39.48796, -122.63247 39.4796))  |\n",
      "|POLYGON ((-121.83355 37.95026, -121.79677 37.94942, -121.77843 37.9483, -121.76011 37.94712, -121.74182 37.94566, -121.83355 37.95026)) |\n",
      "|POLYGON ((-124.04058 40.19957, -124.03355 40.18764, -124.03047 40.18121, -124.02715 40.18055, -124.02307 40.18671, -124.04058 40.19957))|\n",
      "|POLYGON ((-122.98056 40.75822, -122.97876 40.75856, -122.97785 40.75876, -122.97693 40.7589, -122.976 40.75906, -122.98056 40.75822))   |\n",
      "|POLYGON ((-105.23611 39.85066, -105.23055 39.85178, -105.22773 39.85228, -105.22488 39.85271, -105.22202 39.85309, -105.23611 39.85066))|\n",
      "|POLYGON ((-108.52444 37.46664, -108.52444 37.46664, -108.52444 37.46664, -108.52444 37.46664, -108.52444 37.46664, -108.52444 37.46664))|\n",
      "|POLYGON ((-107.25089 38.50739, -107.23952 38.5166, -107.23349 38.52158, -107.22708 38.52829, -107.22028 38.53556, -107.25089 38.50739)) |\n",
      "|POLYGON ((-108.56667 39.46631, -108.54967 39.46386, -108.54126 39.46245, -108.5329 39.46092, -108.52461 39.45926, -108.56667 39.46631)) |\n",
      "|POLYGON ((-108.02644 37.29944, -108.02644 37.29944, -108.02644 37.29944, -108.02644 37.29944, -108.02644 37.29944, -108.02644 37.29944))|\n",
      "|POLYGON ((-108.68842 37.25219, -108.68842 37.25219, -108.68842 37.25219, -108.68842 37.25219, -108.68842 37.25219, -108.68842 37.25219))|\n",
      "+----------------------------------------------------------------------------------------------------------------------------------------+\n",
      "only showing top 20 rows\n",
      "\n"
     ]
    },
    {
     "name": "stderr",
     "output_type": "stream",
     "text": [
      "                                                                                \r"
     ]
    }
   ],
   "source": [
    "def row_to_wkt_dynamic(row):\n",
    "    coords = []\n",
    "    for point in row:\n",
    "        lat, lon = map(float, point.split(','))\n",
    "        coords.append(f\"{lon} {lat}\")  \n",
    "    return f\"POLYGON (({', '.join(coords)}))\"\n",
    "\n",
    "to_wkt_udf = udf(row_to_wkt_dynamic, StringType())\n",
    "\n",
    "columns = df_closed.columns\n",
    "df_with_wkt = df_closed.withColumn(\"wkt_geometry\", to_wkt_udf(array(*[col(c) for c in columns])))\n",
    "\n",
    "df_geom = df_with_wkt.withColumn(\"geometry\", ST_GeomFromWKT(\"wkt_geometry\"))\n",
    "\n",
    "final_df = df_geom.select(\"geometry\")\n",
    "\n",
    "final_df.show(truncate=False)"
   ]
  },
  {
   "cell_type": "code",
   "execution_count": 17,
   "id": "eba38e78-2786-42a7-89a0-4c4135f4063f",
   "metadata": {
    "execution": {
     "iopub.execute_input": "2025-05-04T11:10:52.893462Z",
     "iopub.status.busy": "2025-05-04T11:10:52.893251Z",
     "iopub.status.idle": "2025-05-04T11:10:57.199441Z",
     "shell.execute_reply": "2025-05-04T11:10:57.199097Z",
     "shell.execute_reply.started": "2025-05-04T11:10:52.893447Z"
    }
   },
   "outputs": [
    {
     "name": "stdout",
     "output_type": "stream",
     "text": [
      "User Guide: https://docs.kepler.gl/docs/keplergl-jupyter\n"
     ]
    },
    {
     "name": "stderr",
     "output_type": "stream",
     "text": [
      "                                                                                \r"
     ]
    },
    {
     "data": {
      "application/vnd.jupyter.widget-view+json": {
       "model_id": "2ba5f8a4320d463b92241ebc9fb32d10",
       "version_major": 2,
       "version_minor": 0
      },
      "text/plain": [
       "KeplerGl(data={'polygons': {'index': [0, 1, 2, 3, 4, 5, 6, 7, 8, 9, 10, 11, 12, 13, 14, 15, 16, 17, 18, 19, 20…"
      ]
     },
     "execution_count": 17,
     "metadata": {},
     "output_type": "execute_result"
    }
   ],
   "source": [
    "SedonaKepler.create_map(final_df, \"polygons\")"
   ]
  },
  {
   "cell_type": "code",
   "execution_count": 18,
   "id": "cef5997c-2256-4e4b-a7e0-261cb71e3908",
   "metadata": {
    "execution": {
     "iopub.execute_input": "2025-05-04T11:18:30.945524Z",
     "iopub.status.busy": "2025-05-04T11:18:30.945314Z",
     "iopub.status.idle": "2025-05-04T11:18:30.973493Z",
     "shell.execute_reply": "2025-05-04T11:18:30.972963Z",
     "shell.execute_reply.started": "2025-05-04T11:18:30.945508Z"
    }
   },
   "outputs": [],
   "source": [
    "tv_df.createOrReplaceTempView(\"tv\")"
   ]
  },
  {
   "cell_type": "code",
   "execution_count": 19,
   "id": "feeef2aa-639e-4d3b-bb49-b2f404622b75",
   "metadata": {
    "execution": {
     "iopub.execute_input": "2025-05-04T11:18:53.577448Z",
     "iopub.status.busy": "2025-05-04T11:18:53.577231Z",
     "iopub.status.idle": "2025-05-04T11:18:53.625414Z",
     "shell.execute_reply": "2025-05-04T11:18:53.624887Z",
     "shell.execute_reply.started": "2025-05-04T11:18:53.577432Z"
    }
   },
   "outputs": [
    {
     "name": "stdout",
     "output_type": "stream",
     "text": [
      "root\n",
      " |-- application_id: string (nullable = true)\n",
      " |-- service: string (nullable = true)\n",
      " |-- lms_application_id: string (nullable = true)\n",
      " |-- dts_site_number: string (nullable = true)\n",
      " |-- transmitter_site: string (nullable = true)\n",
      " |-- 0: string (nullable = true)\n",
      " |-- 1: string (nullable = true)\n",
      " |-- 2: string (nullable = true)\n",
      " |-- 3: string (nullable = true)\n",
      " |-- 4: string (nullable = true)\n",
      " |-- 5: string (nullable = true)\n",
      " |-- 6: string (nullable = true)\n",
      " |-- 7: string (nullable = true)\n",
      " |-- 8: string (nullable = true)\n",
      " |-- 9: string (nullable = true)\n",
      " |-- 10: string (nullable = true)\n",
      " |-- 11: string (nullable = true)\n",
      " |-- 12: string (nullable = true)\n",
      " |-- 13: string (nullable = true)\n",
      " |-- 14: string (nullable = true)\n",
      " |-- 15: string (nullable = true)\n",
      " |-- 16: string (nullable = true)\n",
      " |-- 17: string (nullable = true)\n",
      " |-- 18: string (nullable = true)\n",
      " |-- 19: string (nullable = true)\n",
      " |-- 20: string (nullable = true)\n",
      " |-- 21: string (nullable = true)\n",
      " |-- 22: string (nullable = true)\n",
      " |-- 23: string (nullable = true)\n",
      " |-- 24: string (nullable = true)\n",
      " |-- 25: string (nullable = true)\n",
      " |-- 26: string (nullable = true)\n",
      " |-- 27: string (nullable = true)\n",
      " |-- 28: string (nullable = true)\n",
      " |-- 29: string (nullable = true)\n",
      " |-- 30: string (nullable = true)\n",
      " |-- 31: string (nullable = true)\n",
      " |-- 32: string (nullable = true)\n",
      " |-- 33: string (nullable = true)\n",
      " |-- 34: string (nullable = true)\n",
      " |-- 35: string (nullable = true)\n",
      " |-- 36: string (nullable = true)\n",
      " |-- 37: string (nullable = true)\n",
      " |-- 38: string (nullable = true)\n",
      " |-- 39: string (nullable = true)\n",
      " |-- 40: string (nullable = true)\n",
      " |-- 41: string (nullable = true)\n",
      " |-- 42: string (nullable = true)\n",
      " |-- 43: string (nullable = true)\n",
      " |-- 44: string (nullable = true)\n",
      " |-- 45: string (nullable = true)\n",
      " |-- 46: string (nullable = true)\n",
      " |-- 47: string (nullable = true)\n",
      " |-- 48: string (nullable = true)\n",
      " |-- 49: string (nullable = true)\n",
      " |-- 50: string (nullable = true)\n",
      " |-- 51: string (nullable = true)\n",
      " |-- 52: string (nullable = true)\n",
      " |-- 53: string (nullable = true)\n",
      " |-- 54: string (nullable = true)\n",
      " |-- 55: string (nullable = true)\n",
      " |-- 56: string (nullable = true)\n",
      " |-- 57: string (nullable = true)\n",
      " |-- 58: string (nullable = true)\n",
      " |-- 59: string (nullable = true)\n",
      " |-- 60: string (nullable = true)\n",
      " |-- 61: string (nullable = true)\n",
      " |-- 62: string (nullable = true)\n",
      " |-- 63: string (nullable = true)\n",
      " |-- 64: string (nullable = true)\n",
      " |-- 65: string (nullable = true)\n",
      " |-- 66: string (nullable = true)\n",
      " |-- 67: string (nullable = true)\n",
      " |-- 68: string (nullable = true)\n",
      " |-- 69: string (nullable = true)\n",
      " |-- 70: string (nullable = true)\n",
      " |-- 71: string (nullable = true)\n",
      " |-- 72: string (nullable = true)\n",
      " |-- 73: string (nullable = true)\n",
      " |-- 74: string (nullable = true)\n",
      " |-- 75: string (nullable = true)\n",
      " |-- 76: string (nullable = true)\n",
      " |-- 77: string (nullable = true)\n",
      " |-- 78: string (nullable = true)\n",
      " |-- 79: string (nullable = true)\n",
      " |-- 80: string (nullable = true)\n",
      " |-- 81: string (nullable = true)\n",
      " |-- 82: string (nullable = true)\n",
      " |-- 83: string (nullable = true)\n",
      " |-- 84: string (nullable = true)\n",
      " |-- 85: string (nullable = true)\n",
      " |-- 86: string (nullable = true)\n",
      " |-- 87: string (nullable = true)\n",
      " |-- 88: string (nullable = true)\n",
      " |-- 89: string (nullable = true)\n",
      " |-- 90: string (nullable = true)\n",
      " |-- 91: string (nullable = true)\n",
      " |-- 92: string (nullable = true)\n",
      " |-- 93: string (nullable = true)\n",
      " |-- 94: string (nullable = true)\n",
      " |-- 95: string (nullable = true)\n",
      " |-- 96: string (nullable = true)\n",
      " |-- 97: string (nullable = true)\n",
      " |-- 98: string (nullable = true)\n",
      " |-- 99: string (nullable = true)\n",
      " |-- 100: string (nullable = true)\n",
      " |-- 101: string (nullable = true)\n",
      " |-- 102: string (nullable = true)\n",
      " |-- 103: string (nullable = true)\n",
      " |-- 104: string (nullable = true)\n",
      " |-- 105: string (nullable = true)\n",
      " |-- 106: string (nullable = true)\n",
      " |-- 107: string (nullable = true)\n",
      " |-- 108: string (nullable = true)\n",
      " |-- 109: string (nullable = true)\n",
      " |-- 110: string (nullable = true)\n",
      " |-- 111: string (nullable = true)\n",
      " |-- 112: string (nullable = true)\n",
      " |-- 113: string (nullable = true)\n",
      " |-- 114: string (nullable = true)\n",
      " |-- 115: string (nullable = true)\n",
      " |-- 116: string (nullable = true)\n",
      " |-- 117: string (nullable = true)\n",
      " |-- 118: string (nullable = true)\n",
      " |-- 119: string (nullable = true)\n",
      " |-- 120: string (nullable = true)\n",
      " |-- 121: string (nullable = true)\n",
      " |-- 122: string (nullable = true)\n",
      " |-- 123: string (nullable = true)\n",
      " |-- 124: string (nullable = true)\n",
      " |-- 125: string (nullable = true)\n",
      " |-- 126: string (nullable = true)\n",
      " |-- 127: string (nullable = true)\n",
      " |-- 128: string (nullable = true)\n",
      " |-- 129: string (nullable = true)\n",
      " |-- 130: string (nullable = true)\n",
      " |-- 131: string (nullable = true)\n",
      " |-- 132: string (nullable = true)\n",
      " |-- 133: string (nullable = true)\n",
      " |-- 134: string (nullable = true)\n",
      " |-- 135: string (nullable = true)\n",
      " |-- 136: string (nullable = true)\n",
      " |-- 137: string (nullable = true)\n",
      " |-- 138: string (nullable = true)\n",
      " |-- 139: string (nullable = true)\n",
      " |-- 140: string (nullable = true)\n",
      " |-- 141: string (nullable = true)\n",
      " |-- 142: string (nullable = true)\n",
      " |-- 143: string (nullable = true)\n",
      " |-- 144: string (nullable = true)\n",
      " |-- 145: string (nullable = true)\n",
      " |-- 146: string (nullable = true)\n",
      " |-- 147: string (nullable = true)\n",
      " |-- 148: string (nullable = true)\n",
      " |-- 149: string (nullable = true)\n",
      " |-- 150: string (nullable = true)\n",
      " |-- 151: string (nullable = true)\n",
      " |-- 152: string (nullable = true)\n",
      " |-- 153: string (nullable = true)\n",
      " |-- 154: string (nullable = true)\n",
      " |-- 155: string (nullable = true)\n",
      " |-- 156: string (nullable = true)\n",
      " |-- 157: string (nullable = true)\n",
      " |-- 158: string (nullable = true)\n",
      " |-- 159: string (nullable = true)\n",
      " |-- 160: string (nullable = true)\n",
      " |-- 161: string (nullable = true)\n",
      " |-- 162: string (nullable = true)\n",
      " |-- 163: string (nullable = true)\n",
      " |-- 164: string (nullable = true)\n",
      " |-- 165: string (nullable = true)\n",
      " |-- 166: string (nullable = true)\n",
      " |-- 167: string (nullable = true)\n",
      " |-- 168: string (nullable = true)\n",
      " |-- 169: string (nullable = true)\n",
      " |-- 170: string (nullable = true)\n",
      " |-- 171: string (nullable = true)\n",
      " |-- 172: string (nullable = true)\n",
      " |-- 173: string (nullable = true)\n",
      " |-- 174: string (nullable = true)\n",
      " |-- 175: string (nullable = true)\n",
      " |-- 176: string (nullable = true)\n",
      " |-- 177: string (nullable = true)\n",
      " |-- 178: string (nullable = true)\n",
      " |-- 179: string (nullable = true)\n",
      " |-- 180: string (nullable = true)\n",
      " |-- 181: string (nullable = true)\n",
      " |-- 182: string (nullable = true)\n",
      " |-- 183: string (nullable = true)\n",
      " |-- 184: string (nullable = true)\n",
      " |-- 185: string (nullable = true)\n",
      " |-- 186: string (nullable = true)\n",
      " |-- 187: string (nullable = true)\n",
      " |-- 188: string (nullable = true)\n",
      " |-- 189: string (nullable = true)\n",
      " |-- 190: string (nullable = true)\n",
      " |-- 191: string (nullable = true)\n",
      " |-- 192: string (nullable = true)\n",
      " |-- 193: string (nullable = true)\n",
      " |-- 194: string (nullable = true)\n",
      " |-- 195: string (nullable = true)\n",
      " |-- 196: string (nullable = true)\n",
      " |-- 197: string (nullable = true)\n",
      " |-- 198: string (nullable = true)\n",
      " |-- 199: string (nullable = true)\n",
      " |-- 200: string (nullable = true)\n",
      " |-- 201: string (nullable = true)\n",
      " |-- 202: string (nullable = true)\n",
      " |-- 203: string (nullable = true)\n",
      " |-- 204: string (nullable = true)\n",
      " |-- 205: string (nullable = true)\n",
      " |-- 206: string (nullable = true)\n",
      " |-- 207: string (nullable = true)\n",
      " |-- 208: string (nullable = true)\n",
      " |-- 209: string (nullable = true)\n",
      " |-- 210: string (nullable = true)\n",
      " |-- 211: string (nullable = true)\n",
      " |-- 212: string (nullable = true)\n",
      " |-- 213: string (nullable = true)\n",
      " |-- 214: string (nullable = true)\n",
      " |-- 215: string (nullable = true)\n",
      " |-- 216: string (nullable = true)\n",
      " |-- 217: string (nullable = true)\n",
      " |-- 218: string (nullable = true)\n",
      " |-- 219: string (nullable = true)\n",
      " |-- 220: string (nullable = true)\n",
      " |-- 221: string (nullable = true)\n",
      " |-- 222: string (nullable = true)\n",
      " |-- 223: string (nullable = true)\n",
      " |-- 224: string (nullable = true)\n",
      " |-- 225: string (nullable = true)\n",
      " |-- 226: string (nullable = true)\n",
      " |-- 227: string (nullable = true)\n",
      " |-- 228: string (nullable = true)\n",
      " |-- 229: string (nullable = true)\n",
      " |-- 230: string (nullable = true)\n",
      " |-- 231: string (nullable = true)\n",
      " |-- 232: string (nullable = true)\n",
      " |-- 233: string (nullable = true)\n",
      " |-- 234: string (nullable = true)\n",
      " |-- 235: string (nullable = true)\n",
      " |-- 236: string (nullable = true)\n",
      " |-- 237: string (nullable = true)\n",
      " |-- 238: string (nullable = true)\n",
      " |-- 239: string (nullable = true)\n",
      " |-- 240: string (nullable = true)\n",
      " |-- 241: string (nullable = true)\n",
      " |-- 242: string (nullable = true)\n",
      " |-- 243: string (nullable = true)\n",
      " |-- 244: string (nullable = true)\n",
      " |-- 245: string (nullable = true)\n",
      " |-- 246: string (nullable = true)\n",
      " |-- 247: string (nullable = true)\n",
      " |-- 248: string (nullable = true)\n",
      " |-- 249: string (nullable = true)\n",
      " |-- 250: string (nullable = true)\n",
      " |-- 251: string (nullable = true)\n",
      " |-- 252: string (nullable = true)\n",
      " |-- 253: string (nullable = true)\n",
      " |-- 254: string (nullable = true)\n",
      " |-- 255: string (nullable = true)\n",
      " |-- 256: string (nullable = true)\n",
      " |-- 257: string (nullable = true)\n",
      " |-- 258: string (nullable = true)\n",
      " |-- 259: string (nullable = true)\n",
      " |-- 260: string (nullable = true)\n",
      " |-- 261: string (nullable = true)\n",
      " |-- 262: string (nullable = true)\n",
      " |-- 263: string (nullable = true)\n",
      " |-- 264: string (nullable = true)\n",
      " |-- 265: string (nullable = true)\n",
      " |-- 266: string (nullable = true)\n",
      " |-- 267: string (nullable = true)\n",
      " |-- 268: string (nullable = true)\n",
      " |-- 269: string (nullable = true)\n",
      " |-- 270: string (nullable = true)\n",
      " |-- 271: string (nullable = true)\n",
      " |-- 272: string (nullable = true)\n",
      " |-- 273: string (nullable = true)\n",
      " |-- 274: string (nullable = true)\n",
      " |-- 275: string (nullable = true)\n",
      " |-- 276: string (nullable = true)\n",
      " |-- 277: string (nullable = true)\n",
      " |-- 278: string (nullable = true)\n",
      " |-- 279: string (nullable = true)\n",
      " |-- 280: string (nullable = true)\n",
      " |-- 281: string (nullable = true)\n",
      " |-- 282: string (nullable = true)\n",
      " |-- 283: string (nullable = true)\n",
      " |-- 284: string (nullable = true)\n",
      " |-- 285: string (nullable = true)\n",
      " |-- 286: string (nullable = true)\n",
      " |-- 287: string (nullable = true)\n",
      " |-- 288: string (nullable = true)\n",
      " |-- 289: string (nullable = true)\n",
      " |-- 290: string (nullable = true)\n",
      " |-- 291: string (nullable = true)\n",
      " |-- 292: string (nullable = true)\n",
      " |-- 293: string (nullable = true)\n",
      " |-- 294: string (nullable = true)\n",
      " |-- 295: string (nullable = true)\n",
      " |-- 296: string (nullable = true)\n",
      " |-- 297: string (nullable = true)\n",
      " |-- 298: string (nullable = true)\n",
      " |-- 299: string (nullable = true)\n",
      " |-- 300: string (nullable = true)\n",
      " |-- 301: string (nullable = true)\n",
      " |-- 302: string (nullable = true)\n",
      " |-- 303: string (nullable = true)\n",
      " |-- 304: string (nullable = true)\n",
      " |-- 305: string (nullable = true)\n",
      " |-- 306: string (nullable = true)\n",
      " |-- 307: string (nullable = true)\n",
      " |-- 308: string (nullable = true)\n",
      " |-- 309: string (nullable = true)\n",
      " |-- 310: string (nullable = true)\n",
      " |-- 311: string (nullable = true)\n",
      " |-- 312: string (nullable = true)\n",
      " |-- 313: string (nullable = true)\n",
      " |-- 314: string (nullable = true)\n",
      " |-- 315: string (nullable = true)\n",
      " |-- 316: string (nullable = true)\n",
      " |-- 317: string (nullable = true)\n",
      " |-- 318: string (nullable = true)\n",
      " |-- 319: string (nullable = true)\n",
      " |-- 320: string (nullable = true)\n",
      " |-- 321: string (nullable = true)\n",
      " |-- 322: string (nullable = true)\n",
      " |-- 323: string (nullable = true)\n",
      " |-- 324: string (nullable = true)\n",
      " |-- 325: string (nullable = true)\n",
      " |-- 326: string (nullable = true)\n",
      " |-- 327: string (nullable = true)\n",
      " |-- 328: string (nullable = true)\n",
      " |-- 329: string (nullable = true)\n",
      " |-- 330: string (nullable = true)\n",
      " |-- 331: string (nullable = true)\n",
      " |-- 332: string (nullable = true)\n",
      " |-- 333: string (nullable = true)\n",
      " |-- 334: string (nullable = true)\n",
      " |-- 335: string (nullable = true)\n",
      " |-- 336: string (nullable = true)\n",
      " |-- 337: string (nullable = true)\n",
      " |-- 338: string (nullable = true)\n",
      " |-- 339: string (nullable = true)\n",
      " |-- 340: string (nullable = true)\n",
      " |-- 341: string (nullable = true)\n",
      " |-- 342: string (nullable = true)\n",
      " |-- 343: string (nullable = true)\n",
      " |-- 344: string (nullable = true)\n",
      " |-- 345: string (nullable = true)\n",
      " |-- 346: string (nullable = true)\n",
      " |-- 347: string (nullable = true)\n",
      " |-- 348: string (nullable = true)\n",
      " |-- 349: string (nullable = true)\n",
      " |-- 350: string (nullable = true)\n",
      " |-- 351: string (nullable = true)\n",
      " |-- 352: string (nullable = true)\n",
      " |-- 353: string (nullable = true)\n",
      " |-- 354: string (nullable = true)\n",
      " |-- 355: string (nullable = true)\n",
      " |-- 356: string (nullable = true)\n",
      " |-- 357: string (nullable = true)\n",
      " |-- 358: string (nullable = true)\n",
      " |-- 359: string (nullable = true)\n",
      " |-- ^: string (nullable = true)\n",
      " |-- _c366: string (nullable = true)\n",
      "\n"
     ]
    }
   ],
   "source": [
    "tv_df.printSchema()"
   ]
  },
  {
   "cell_type": "code",
   "execution_count": 20,
   "id": "b1282ad0-da90-4248-b3d5-f0d9442b88e4",
   "metadata": {
    "execution": {
     "iopub.execute_input": "2025-05-04T11:19:18.431558Z",
     "iopub.status.busy": "2025-05-04T11:19:18.431361Z",
     "iopub.status.idle": "2025-05-04T11:19:18.434598Z",
     "shell.execute_reply": "2025-05-04T11:19:18.434094Z",
     "shell.execute_reply.started": "2025-05-04T11:19:18.431545Z"
    }
   },
   "outputs": [],
   "source": [
    "desc_cols = tv_df.columns[:5]\n",
    "coord_cols = tv_df.columns[5: 366]"
   ]
  },
  {
   "cell_type": "code",
   "execution_count": 21,
   "id": "da8bcb35-b867-415f-b360-58cc8f68fdaa",
   "metadata": {
    "execution": {
     "iopub.execute_input": "2025-05-04T11:19:45.986683Z",
     "iopub.status.busy": "2025-05-04T11:19:45.986096Z",
     "iopub.status.idle": "2025-05-04T11:19:46.244496Z",
     "shell.execute_reply": "2025-05-04T11:19:46.243953Z",
     "shell.execute_reply.started": "2025-05-04T11:19:45.986661Z"
    }
   },
   "outputs": [],
   "source": [
    "def row_to_wkt_dynamic(row):\n",
    "    coords = []\n",
    "    for point in row:\n",
    "        lat, lon = map(float, point.split(','))\n",
    "        coords.append(f\"{lon} {lat}\")  # lon, lat — bo WKT tego wymaga\n",
    "    return f\"POLYGON (({', '.join(coords)}))\"\n",
    "\n",
    "to_wkt_udf = udf(row_to_wkt_dynamic, StringType())\n",
    "\n",
    "desc_cols = tv_df.columns[:5]\n",
    "coord_cols = tv_df.columns[5:365]\n",
    "\n",
    "df_with_wkt = tv_df.withColumn(\"wkt_geometry\", to_wkt_udf(array(*[col(c) for c in coord_cols])))\n",
    "df_geom = df_with_wkt.withColumn(\"geometry\", ST_GeomFromWKT(\"wkt_geometry\"))\n",
    "\n",
    "\n",
    "final_df = df_geom.select(*desc_cols, \"geometry\")\n"
   ]
  },
  {
   "cell_type": "code",
   "execution_count": 22,
   "id": "b0e3acfa-0456-4901-ace7-3fa72c14c29d",
   "metadata": {
    "execution": {
     "iopub.execute_input": "2025-05-04T11:19:58.226025Z",
     "iopub.status.busy": "2025-05-04T11:19:58.225380Z",
     "iopub.status.idle": "2025-05-04T11:19:59.583705Z",
     "shell.execute_reply": "2025-05-04T11:19:59.583019Z",
     "shell.execute_reply.started": "2025-05-04T11:19:58.226000Z"
    }
   },
   "outputs": [
    {
     "name": "stderr",
     "output_type": "stream",
     "text": [
      "[Stage 9:>                                                          (0 + 1) / 1]\r"
     ]
    },
    {
     "name": "stdout",
     "output_type": "stream",
     "text": [
      "+--------------+-------+--------------------+---------------+--------------------+--------------------+\n",
      "|application_id|service|  lms_application_id|dts_site_number|    transmitter_site|            geometry|\n",
      "+--------------+-------+--------------------+---------------+--------------------+--------------------+\n",
      "|    2036528   |    LPD|25076ff3729b1e0a0...|             01|59.97375 ,-154.84911|POLYGON ((-154.84...|\n",
      "|    2020763   |    DTV|25076f9169e0309d0...|             01|35.00250 ,-87.13583 |POLYGON ((-87.135...|\n",
      "|    2051473   |    LPD|25076ff386f28a460...|             01|33.05058 ,-114.82803|POLYGON ((-114.82...|\n",
      "|    2047477   |    LPD|25076ff380754a570...|             01|33.05058 ,-114.82803|POLYGON ((-114.82...|\n",
      "|    2047332   |    LPD|25076ff38197b72e0...|             01|37.21722 ,-120.20000|POLYGON ((-120.2 ...|\n",
      "|    2045786   |    LPD|25076ff3818b1da20...|             01|33.87083 ,-116.22778|POLYGON ((-116.22...|\n",
      "|    2042394   |    LPD|25076ff379edbd630...|             01|33.71875 ,-116.23333|POLYGON ((-116.23...|\n",
      "|    2047209   |    LPD|25076f9181644b630...|             01|34.23194 ,-118.07250|POLYGON ((-118.07...|\n",
      "|    1636431   |    LPT|5c099f4617394bd0a...|             01|34.23194 ,-118.07250|POLYGON ((-118.07...|\n",
      "|    2050793   |    LPD|25076f91858430210...|             01|38.66906 ,-122.63247|POLYGON ((-122.63...|\n",
      "|    2049140   |    LPD|25076f9181f47ea90...|             01|38.66906 ,-122.63247|POLYGON ((-122.63...|\n",
      "|    2001458   |    LPD|25076f914dfdd8ab0...|             01|37.11883 ,-121.83356|POLYGON ((-121.83...|\n",
      "|    1505135   |    LPT|8454aac897db42e39...|             01|40.03383 ,-124.04058|POLYGON ((-124.04...|\n",
      "|    1262099   |    LPT|3147136286024a88b...|             01|40.71958 ,-122.98056|POLYGON ((-122.98...|\n",
      "|    2036969   |    LPD|25076f91732a46140...|             01|39.72944 ,-105.23611|POLYGON ((-105.23...|\n",
      "|    1422197   |    LPT|d9f7f05a979a4b058...|             01|37.46664 ,-108.52444|POLYGON ((-108.52...|\n",
      "|    1424848   |    LPT|f8cb3756787b40d7a...|             01|38.26192 ,-107.25089|POLYGON ((-107.25...|\n",
      "|    2002433   |    DTV|25076ff3524603200...|             01|39.08806 ,-108.56667|POLYGON ((-108.56...|\n",
      "|    1439031   |    LPT|96c956b5f07741a08...|             01|37.29944 ,-108.02644|POLYGON ((-108.02...|\n",
      "|    1439043   |    LPT|957fab47770747899...|             01|37.25219 ,-108.68842|POLYGON ((-108.68...|\n",
      "+--------------+-------+--------------------+---------------+--------------------+--------------------+\n",
      "only showing top 20 rows\n",
      "\n"
     ]
    },
    {
     "name": "stderr",
     "output_type": "stream",
     "text": [
      "                                                                                \r"
     ]
    }
   ],
   "source": [
    "final_df.show()"
   ]
  },
  {
   "cell_type": "code",
   "execution_count": 24,
   "id": "725dbf27-da5e-4e47-bf5c-5b98a10ac9cb",
   "metadata": {
    "execution": {
     "iopub.execute_input": "2025-05-04T11:25:22.866621Z",
     "iopub.status.busy": "2025-05-04T11:25:22.866382Z",
     "iopub.status.idle": "2025-05-04T11:25:24.673357Z",
     "shell.execute_reply": "2025-05-04T11:25:24.672806Z",
     "shell.execute_reply.started": "2025-05-04T11:25:22.866605Z"
    }
   },
   "outputs": [
    {
     "name": "stderr",
     "output_type": "stream",
     "text": [
      "                                                                                \r"
     ]
    },
    {
     "data": {
      "text/plain": [
       "8528"
      ]
     },
     "execution_count": 24,
     "metadata": {},
     "output_type": "execute_result"
    }
   ],
   "source": [
    "final_df.count()"
   ]
  },
  {
   "cell_type": "code",
   "execution_count": 23,
   "id": "74ed1913-2e68-4b72-a213-fc4b9fae8f1b",
   "metadata": {
    "execution": {
     "iopub.execute_input": "2025-05-04T11:20:37.026933Z",
     "iopub.status.busy": "2025-05-04T11:20:37.026682Z",
     "iopub.status.idle": "2025-05-04T11:20:46.766610Z",
     "shell.execute_reply": "2025-05-04T11:20:46.766204Z",
     "shell.execute_reply.started": "2025-05-04T11:20:37.026918Z"
    }
   },
   "outputs": [
    {
     "name": "stdout",
     "output_type": "stream",
     "text": [
      "User Guide: https://docs.kepler.gl/docs/keplergl-jupyter\n"
     ]
    },
    {
     "name": "stderr",
     "output_type": "stream",
     "text": [
      "                                                                                \r"
     ]
    },
    {
     "data": {
      "application/vnd.jupyter.widget-view+json": {
       "model_id": "519dbb7b82524e4ba1163cbb8962c54f",
       "version_major": 2,
       "version_minor": 0
      },
      "text/plain": [
       "KeplerGl(data={'polygons2': {'index': [0, 1, 2, 3, 4, 5, 6, 7, 8, 9, 10, 11, 12, 13, 14, 15, 16, 17, 18, 19, 2…"
      ]
     },
     "execution_count": 23,
     "metadata": {},
     "output_type": "execute_result"
    }
   ],
   "source": [
    "SedonaKepler.create_map(final_df, \"polygons2\")"
   ]
  },
  {
   "cell_type": "code",
   "execution_count": null,
   "id": "5ceb12c0-fed7-4741-bac6-9d1d18d7652d",
   "metadata": {},
   "outputs": [],
   "source": []
  }
 ],
 "metadata": {
  "kernelspec": {
   "display_name": "Python 3 (ipykernel)",
   "language": "python",
   "name": "python3"
  },
  "language_info": {
   "codemirror_mode": {
    "name": "ipython",
    "version": 3
   },
   "file_extension": ".py",
   "mimetype": "text/x-python",
   "name": "python",
   "nbconvert_exporter": "python",
   "pygments_lexer": "ipython3",
   "version": "3.11.12"
  }
 },
 "nbformat": 4,
 "nbformat_minor": 5
}
